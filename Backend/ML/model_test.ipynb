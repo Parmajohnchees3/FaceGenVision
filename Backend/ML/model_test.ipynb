{
 "cells": [
  {
   "cell_type": "code",
   "execution_count": 1,
   "metadata": {},
   "outputs": [],
   "source": [
    "from facenet_pytorch import MTCNN, InceptionResnetV1\n",
    "import torch\n",
    "from torch.utils.data import DataLoader\n",
    "from torchvision import datasets\n",
    "import numpy as np\n",
    "import pandas as pd\n",
    "import os\n",
    "\n",
    "workers = 0 if os.name == 'nt' else 4"
   ]
  },
  {
   "cell_type": "code",
   "execution_count": 2,
   "metadata": {},
   "outputs": [
    {
     "name": "stdout",
     "output_type": "stream",
     "text": [
      "Running on device: cpu\n"
     ]
    }
   ],
   "source": [
    "device = torch.device('cuda:0' if torch.cuda.is_available() else 'cpu')\n",
    "print('Running on device: {}'.format(device))"
   ]
  },
  {
   "cell_type": "code",
   "execution_count": 3,
   "metadata": {},
   "outputs": [],
   "source": [
    "mtcnn = MTCNN(\n",
    "    image_size=160, margin=0, min_face_size=20,\n",
    "    thresholds=[0.6, 0.7, 0.7], factor=0.709, post_process=True,\n",
    "    device=device\n",
    ")"
   ]
  },
  {
   "cell_type": "code",
   "execution_count": 4,
   "metadata": {},
   "outputs": [
    {
     "data": {
      "text/plain": [
       "<All keys matched successfully>"
      ]
     },
     "execution_count": 4,
     "metadata": {},
     "output_type": "execute_result"
    }
   ],
   "source": [
    "resnet = InceptionResnetV1(\n",
    "    classify=True,\n",
    "    num_classes=1,\n",
    ").to(device)\n",
    "\n",
    "resnet.load_state_dict(torch.load('model_weights/model.pth'))"
   ]
  },
  {
   "cell_type": "code",
   "execution_count": 5,
   "metadata": {},
   "outputs": [],
   "source": [
    "def collate_fn(x):\n",
    "    return x[0]\n",
    "\n",
    "dataset = datasets.ImageFolder('../data/test_images_cropped')\n",
    "dataset.idx_to_class = {i:c for c, i in dataset.class_to_idx.items()}\n",
    "loader = DataLoader(dataset, collate_fn=collate_fn, num_workers=0)"
   ]
  },
  {
   "cell_type": "code",
   "execution_count": 6,
   "metadata": {},
   "outputs": [
    {
     "name": "stdout",
     "output_type": "stream",
     "text": [
      "Face detected with probability: 0.999999\n",
      "Face detected with probability: 0.999993\n",
      "Face detected with probability: 0.999985\n",
      "Face detected with probability: 0.998590\n",
      "Face detected with probability: 0.999997\n",
      "Face detected with probability: 0.999817\n",
      "Face detected with probability: 0.999987\n",
      "Face detected with probability: 0.999577\n",
      "Face detected with probability: 0.999992\n",
      "Face detected with probability: 0.999877\n",
      "Face detected with probability: 0.999999\n",
      "Face detected with probability: 0.999975\n",
      "Face detected with probability: 0.999994\n",
      "Face detected with probability: 0.999723\n",
      "Face detected with probability: 0.999794\n",
      "Face detected with probability: 0.999891\n",
      "Face detected with probability: 0.999945\n",
      "Face detected with probability: 0.999992\n",
      "Face detected with probability: 0.999952\n",
      "Face detected with probability: 0.998611\n",
      "Face detected with probability: 0.999939\n",
      "Face detected with probability: 0.999980\n",
      "Face detected with probability: 0.999993\n",
      "Face detected with probability: 0.999999\n",
      "Face detected with probability: 0.999966\n",
      "Face detected with probability: 0.999785\n",
      "Face detected with probability: 0.999999\n",
      "Face detected with probability: 0.999996\n",
      "Face detected with probability: 0.999905\n",
      "Face detected with probability: 0.999994\n",
      "Face detected with probability: 0.999901\n",
      "Face detected with probability: 0.999913\n",
      "Face detected with probability: 0.999996\n",
      "Face detected with probability: 0.999983\n",
      "Face detected with probability: 0.999765\n",
      "Face detected with probability: 0.999988\n",
      "Face detected with probability: 0.999999\n"
     ]
    }
   ],
   "source": [
    "aligned = []\n",
    "names = []\n",
    "for x, y in loader:\n",
    "    x_aligned, prob = mtcnn(x, return_prob=True)\n",
    "    if x_aligned is not None:\n",
    "        print('Face detected with probability: {:8f}'.format(prob))\n",
    "        aligned.append(x_aligned)\n",
    "        names.append(dataset.idx_to_class[y])"
   ]
  },
  {
   "cell_type": "code",
   "execution_count": 7,
   "metadata": {},
   "outputs": [
    {
     "name": "stdout",
     "output_type": "stream",
     "text": [
      "tensor([[ 0.8679],\n",
      "        [-0.1288],\n",
      "        [ 1.1762],\n",
      "        [ 0.9454],\n",
      "        [ 0.5870],\n",
      "        [ 0.6509],\n",
      "        [ 0.4021],\n",
      "        [-0.3559],\n",
      "        [-0.3252],\n",
      "        [-0.3483],\n",
      "        [-0.0775],\n",
      "        [-0.3393],\n",
      "        [-1.1245],\n",
      "        [ 0.4625],\n",
      "        [ 0.2653],\n",
      "        [ 0.1825],\n",
      "        [ 0.3078],\n",
      "        [ 0.0404],\n",
      "        [ 0.5282],\n",
      "        [-0.6515],\n",
      "        [-0.9897],\n",
      "        [-0.1552],\n",
      "        [-0.5227],\n",
      "        [-0.1942],\n",
      "        [-0.3633],\n",
      "        [-0.5666],\n",
      "        [-0.4121],\n",
      "        [-0.4903],\n",
      "        [ 0.5943],\n",
      "        [ 1.1301],\n",
      "        [ 0.4374],\n",
      "        [-0.1890],\n",
      "        [-0.1740],\n",
      "        [ 0.2709],\n",
      "        [ 0.6606],\n",
      "        [-0.3859],\n",
      "        [-0.5883]])\n",
      "37\n"
     ]
    }
   ],
   "source": [
    "aligned = torch.stack(aligned).to(device)\n",
    "embeddings = resnet(aligned).detach().cpu()\n",
    "print(embeddings)\n",
    "print(len(embeddings))"
   ]
  },
  {
   "cell_type": "code",
   "execution_count": 8,
   "metadata": {},
   "outputs": [
    {
     "name": "stdout",
     "output_type": "stream",
     "text": [
      "          ValidVic  ValidVic  ValidVic  ValidVic  ValidVic  ValidVic  \\\n",
      "ValidVic  0.000000  0.996750  0.308342  0.077513  0.280953  0.216957   \n",
      "ValidVic  0.996750  0.000000  1.305093  1.074263  0.715798  0.779793   \n",
      "ValidVic  0.308342  1.305093  0.000000  0.230830  0.589295  0.525300   \n",
      "ValidVic  0.077513  1.074263  0.230830  0.000000  0.358465  0.294470   \n",
      "ValidVic  0.280953  0.715798  0.589295  0.358465  0.000000  0.063995   \n",
      "ValidVic  0.216957  0.779793  0.525300  0.294470  0.063995  0.000000   \n",
      "ValidVic  0.465803  0.530947  0.774145  0.543316  0.184850  0.248846   \n",
      "ValidVic  1.223805  0.227054  1.532147  1.301317  0.942852  1.006847   \n",
      "ValidVic  1.193140  0.196389  1.501482  1.270652  0.912187  0.976182   \n",
      "ValidVic  1.216203  0.219453  1.524545  1.293716  0.935250  0.999246   \n",
      "ValidVic  0.945359  0.051392  1.253701  1.022871  0.664406  0.728401   \n",
      "ValidVic  1.207232  0.210482  1.515574  1.284745  0.926279  0.990275   \n",
      "ValidVic  1.992396  0.995645  2.300738  2.069908  1.711443  1.775438   \n",
      "ValidVic  0.405412  0.591338  0.713754  0.482925  0.124459  0.188455   \n",
      "ValidVic  0.602642  0.394108  0.910985  0.680155  0.321690  0.385685   \n",
      "ValidVic  0.685448  0.311303  0.993790  0.762960  0.404495  0.468490   \n",
      "ValidVic  0.560114  0.436636  0.868456  0.637627  0.279161  0.343157   \n",
      "ValidVic  0.827511  0.169240  1.135853  0.905023  0.546558  0.610553   \n",
      "ValidVic  0.339660  0.657090  0.648002  0.417173  0.058707  0.122703   \n",
      "ValidVic  1.519427  0.522677  1.827769  1.596940  1.238474  1.302470   \n",
      "ValidVic  1.857585  0.860835  2.165927  1.935098  1.576632  1.640628   \n",
      "ValidVic  1.023089  0.026339  1.331431  1.100601  0.742136  0.806132   \n",
      "ValidVic  1.390589  0.393839  1.698931  1.468102  1.109636  1.173632   \n",
      "ValidVic  1.062126  0.065375  1.370468  1.139638  0.781173  0.845168   \n",
      "ValidVic  1.231161  0.234411  1.539503  1.308674  0.950208  1.014204   \n",
      "ValidVic  1.434464  0.437714  1.742806  1.511977  1.153511  1.217507   \n",
      "ValidVic  1.280024  0.283273  1.588366  1.357536  0.999071  1.063066   \n",
      "ValidVic  1.358225  0.361474  1.666567  1.435737  1.077272  1.141267   \n",
      "ValidVic  0.273640  0.723111  0.581982  0.351152  0.007313  0.056682   \n",
      "ValidVic  0.262155  1.258905  0.046187  0.184642  0.543108  0.479112   \n",
      "ValidVic  0.430493  0.566258  0.738835  0.508005  0.149540  0.213535   \n",
      "ValidVic  1.056886  0.060136  1.365228  1.134398  0.775933  0.839929   \n",
      "ValidVic  1.041892  0.045141  1.350234  1.119404  0.760939  0.824934   \n",
      "ValidVic  0.597012  0.399739  0.905354  0.674524  0.316059  0.380054   \n",
      "ValidVic  0.207279  0.789472  0.515621  0.284791  0.073674  0.009679   \n",
      "ValidVic  1.253815  0.257065  1.562157  1.331328  0.972862  1.036858   \n",
      "ValidVic  1.456194  0.459444  1.764536  1.533707  1.175241  1.239237   \n",
      "\n",
      "          ValidVic  ValidVic  ValidVic  ValidVic  ...  ValidVic  ValidVic  \\\n",
      "ValidVic  0.465803  1.223805  1.193140  1.216203  ...  1.358225  0.273640   \n",
      "ValidVic  0.530947  0.227054  0.196389  0.219453  ...  0.361474  0.723111   \n",
      "ValidVic  0.774145  1.532147  1.501482  1.524545  ...  1.666567  0.581982   \n",
      "ValidVic  0.543316  1.301317  1.270652  1.293716  ...  1.435737  0.351152   \n",
      "ValidVic  0.184850  0.942852  0.912187  0.935250  ...  1.077272  0.007313   \n",
      "ValidVic  0.248846  1.006847  0.976182  0.999246  ...  1.141267  0.056682   \n",
      "ValidVic  0.000000  0.758001  0.727337  0.750400  ...  0.892422  0.192164   \n",
      "ValidVic  0.758001  0.000000  0.030665  0.007601  ...  0.134420  0.950165   \n",
      "ValidVic  0.727337  0.030665  0.000000  0.023063  ...  0.165085  0.919500   \n",
      "ValidVic  0.750400  0.007601  0.023063  0.000000  ...  0.142022  0.942563   \n",
      "ValidVic  0.479556  0.278446  0.247781  0.270844  ...  0.412866  0.671719   \n",
      "ValidVic  0.741429  0.016572  0.014093  0.008971  ...  0.150993  0.933593   \n",
      "ValidVic  1.526592  0.768591  0.799256  0.776192  ...  0.634171  1.718756   \n",
      "ValidVic  0.060391  0.818392  0.787728  0.810791  ...  0.952813  0.131773   \n",
      "ValidVic  0.136839  0.621162  0.590497  0.613561  ...  0.755582  0.329003   \n",
      "ValidVic  0.219645  0.538357  0.507692  0.530755  ...  0.672777  0.411808   \n",
      "ValidVic  0.094311  0.663690  0.633026  0.656089  ...  0.798111  0.286475   \n",
      "ValidVic  0.361708  0.396294  0.365629  0.388692  ...  0.530714  0.553871   \n",
      "ValidVic  0.126143  0.884144  0.853480  0.876543  ...  1.018565  0.066020   \n",
      "ValidVic  1.053624  0.295622  0.326287  0.303224  ...  0.161202  1.245787   \n",
      "ValidVic  1.391782  0.633781  0.664445  0.641382  ...  0.499360  1.583946   \n",
      "ValidVic  0.557286  0.200716  0.170051  0.193114  ...  0.335136  0.749449   \n",
      "ValidVic  0.924786  0.166784  0.197449  0.174386  ...  0.032364  1.116949   \n",
      "ValidVic  0.596323  0.161679  0.131014  0.154077  ...  0.296099  0.788486   \n",
      "ValidVic  0.765358  0.007356  0.038021  0.014958  ...  0.127064  0.957521   \n",
      "ValidVic  0.968661  0.210660  0.241324  0.218261  ...  0.076239  1.160825   \n",
      "ValidVic  0.814221  0.056219  0.086884  0.063821  ...  0.078201  1.006384   \n",
      "ValidVic  0.892422  0.134420  0.165085  0.142022  ...  0.000000  1.084585   \n",
      "ValidVic  0.192164  0.950165  0.919500  0.942563  ...  1.084585  0.000000   \n",
      "ValidVic  0.727958  1.485959  1.455294  1.478358  ...  1.620380  0.535794   \n",
      "ValidVic  0.035310  0.793312  0.762647  0.785710  ...  0.927732  0.156853   \n",
      "ValidVic  0.591083  0.166919  0.136254  0.159317  ...  0.301339  0.783246   \n",
      "ValidVic  0.576089  0.181913  0.151248  0.174311  ...  0.316333  0.768252   \n",
      "ValidVic  0.131209  0.626793  0.596128  0.619191  ...  0.761213  0.323372   \n",
      "ValidVic  0.258525  1.016526  0.985861  1.008925  ...  1.150946  0.066361   \n",
      "ValidVic  0.788012  0.030011  0.060676  0.037612  ...  0.104410  0.980176   \n",
      "ValidVic  0.990391  0.232390  0.263054  0.239991  ...  0.097969  1.182555   \n",
      "\n",
      "          ValidVic  ValidVic  ValidVic  ValidVic  ValidVic  ValidVic  \\\n",
      "ValidVic  0.262155  0.430493  1.056886  1.041892  0.597012  0.207279   \n",
      "ValidVic  1.258905  0.566258  0.060136  0.045141  0.399739  0.789472   \n",
      "ValidVic  0.046187  0.738835  1.365228  1.350234  0.905354  0.515621   \n",
      "ValidVic  0.184642  0.508005  1.134398  1.119404  0.674524  0.284791   \n",
      "ValidVic  0.543108  0.149540  0.775933  0.760939  0.316059  0.073674   \n",
      "ValidVic  0.479112  0.213535  0.839929  0.824934  0.380054  0.009679   \n",
      "ValidVic  0.727958  0.035310  0.591083  0.576089  0.131209  0.258525   \n",
      "ValidVic  1.485959  0.793312  0.166919  0.181913  0.626793  1.016526   \n",
      "ValidVic  1.455294  0.762647  0.136254  0.151248  0.596128  0.985861   \n",
      "ValidVic  1.478358  0.785710  0.159317  0.174311  0.619191  1.008925   \n",
      "ValidVic  1.207513  0.514866  0.111527  0.096533  0.348347  0.738080   \n",
      "ValidVic  1.469387  0.776739  0.150346  0.165341  0.610221  0.999954   \n",
      "ValidVic  2.254550  1.561903  0.935510  0.950504  1.395384  1.785117   \n",
      "ValidVic  0.667567  0.025081  0.651474  0.636479  0.191599  0.198134   \n",
      "ValidVic  0.864797  0.172150  0.454244  0.439249  0.005631  0.395364   \n",
      "ValidVic  0.947602  0.254955  0.371438  0.356444  0.088436  0.478169   \n",
      "ValidVic  0.822269  0.129621  0.496772  0.481778  0.036898  0.352836   \n",
      "ValidVic  1.089666  0.397018  0.229375  0.214381  0.230499  0.620232   \n",
      "ValidVic  0.601815  0.090833  0.717226  0.702232  0.257352  0.132382   \n",
      "ValidVic  1.781582  1.088934  0.462541  0.477535  0.922415  1.312149   \n",
      "ValidVic  2.119740  1.427092  0.800699  0.815693  1.260573  1.650307   \n",
      "ValidVic  1.285244  0.592596  0.033797  0.018803  0.426077  0.815810   \n",
      "ValidVic  1.652744  0.960096  0.333703  0.348697  0.793577  1.183311   \n",
      "ValidVic  1.324281  0.631633  0.005240  0.020234  0.465114  0.854847   \n",
      "ValidVic  1.493316  0.800668  0.174275  0.189269  0.634149  1.023882   \n",
      "ValidVic  1.696619  1.003971  0.377578  0.392572  0.837452  1.227186   \n",
      "ValidVic  1.542179  0.849531  0.223138  0.238132  0.683012  1.072745   \n",
      "ValidVic  1.620380  0.927732  0.301339  0.316333  0.761213  1.150946   \n",
      "ValidVic  0.535794  0.156853  0.783246  0.768252  0.323372  0.066361   \n",
      "ValidVic  0.000000  0.692648  1.319041  1.304047  0.859166  0.469433   \n",
      "ValidVic  0.692648  0.000000  0.626393  0.611399  0.166519  0.223214   \n",
      "ValidVic  1.319041  0.626393  0.000000  0.014994  0.459874  0.849607   \n",
      "ValidVic  1.304047  0.611399  0.014994  0.000000  0.444880  0.834613   \n",
      "ValidVic  0.859166  0.166519  0.459874  0.444880  0.000000  0.389733   \n",
      "ValidVic  0.469433  0.223214  0.849607  0.834613  0.389733  0.000000   \n",
      "ValidVic  1.515970  0.823323  0.196929  0.211924  0.656804  1.046537   \n",
      "ValidVic  1.718349  1.025701  0.399308  0.414302  0.859183  1.248916   \n",
      "\n",
      "          ValidVic  ValidVic  \n",
      "ValidVic  1.253815  1.456194  \n",
      "ValidVic  0.257065  0.459444  \n",
      "ValidVic  1.562157  1.764536  \n",
      "ValidVic  1.331328  1.533707  \n",
      "ValidVic  0.972862  1.175241  \n",
      "ValidVic  1.036858  1.239237  \n",
      "ValidVic  0.788012  0.990391  \n",
      "ValidVic  0.030011  0.232390  \n",
      "ValidVic  0.060676  0.263054  \n",
      "ValidVic  0.037612  0.239991  \n",
      "ValidVic  0.308457  0.510835  \n",
      "ValidVic  0.046583  0.248962  \n",
      "ValidVic  0.738580  0.536201  \n",
      "ValidVic  0.848403  1.050782  \n",
      "ValidVic  0.651173  0.853552  \n",
      "ValidVic  0.568368  0.770747  \n",
      "ValidVic  0.693701  0.896080  \n",
      "ValidVic  0.426305  0.628683  \n",
      "ValidVic  0.914155  1.116534  \n",
      "ValidVic  0.265612  0.063233  \n",
      "ValidVic  0.603770  0.401391  \n",
      "ValidVic  0.230726  0.433105  \n",
      "ValidVic  0.136774  0.065605  \n",
      "ValidVic  0.191689  0.394068  \n",
      "ValidVic  0.022654  0.225033  \n",
      "ValidVic  0.180649  0.021730  \n",
      "ValidVic  0.026208  0.176170  \n",
      "ValidVic  0.104410  0.097969  \n",
      "ValidVic  0.980176  1.182555  \n",
      "ValidVic  1.515970  1.718349  \n",
      "ValidVic  0.823323  1.025701  \n",
      "ValidVic  0.196929  0.399308  \n",
      "ValidVic  0.211924  0.414302  \n",
      "ValidVic  0.656804  0.859183  \n",
      "ValidVic  1.046537  1.248916  \n",
      "ValidVic  0.000000  0.202379  \n",
      "ValidVic  0.202379  0.000000  \n",
      "\n",
      "[37 rows x 37 columns]\n"
     ]
    }
   ],
   "source": [
    "dists = [[(e1 - e2).norm().item() for e2 in embeddings] for e1 in embeddings]\n",
    "print(pd.DataFrame(dists, columns=names, index=names))"
   ]
  },
  {
   "cell_type": "code",
   "execution_count": null,
   "metadata": {},
   "outputs": [],
   "source": []
  }
 ],
 "metadata": {
  "kernelspec": {
   "display_name": "venv-metal",
   "language": "python",
   "name": "venv-metal"
  },
  "language_info": {
   "codemirror_mode": {
    "name": "ipython",
    "version": 3
   },
   "file_extension": ".py",
   "mimetype": "text/x-python",
   "name": "python",
   "nbconvert_exporter": "python",
   "pygments_lexer": "ipython3",
   "version": "3.10.7"
  },
  "orig_nbformat": 4,
  "vscode": {
   "interpreter": {
    "hash": "aee8b7b246df8f9039afb4144a1f6fd8d2ca17a180786b69acc140d282b71a49"
   }
  }
 },
 "nbformat": 4,
 "nbformat_minor": 2
}
